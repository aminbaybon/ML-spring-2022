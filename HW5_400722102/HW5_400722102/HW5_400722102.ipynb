{
 "cells": [
  {
   "cell_type": "code",
   "execution_count": 1,
   "metadata": {
    "id": "Djiut6gcLSH9"
   },
   "outputs": [],
   "source": [
    "import numpy as np # used for arrays\n",
    "import gym # pull the environment\n",
    "import time # to get the time\n",
    "import math # needed for calculations"
   ]
  },
  {
   "cell_type": "code",
   "execution_count": 2,
   "metadata": {
    "id": "AjhQJtc-Pqjo"
   },
   "outputs": [
    {
     "name": "stdout",
     "output_type": "stream",
     "text": [
      "2\n"
     ]
    }
   ],
   "source": [
    "env = gym.make(\"CartPole-v1\")\n",
    "print(env.action_space.n)"
   ]
  },
  {
   "cell_type": "code",
   "execution_count": 3,
   "metadata": {
    "id": "Ublm-GhGPsFp"
   },
   "outputs": [],
   "source": [
    "LEARNING_RATE = 0.1\n",
    "DISCOUNT = 0.95\n",
    "RUNS = 1000  \n",
    "SHOW_EVERY = 200  \n",
    "UPDATE_EVERY = 100  \n",
    "\n",
    "# Exploration settings\n",
    "epsilon = 1  # not a constant, going to be decayed\n",
    "START_EPSILON_DECAYING  = 1\n",
    "END_EPSILON_DECAYING = RUNS // 2\n",
    "epsilon_decay_value = epsilon / (END_EPSILON_DECAYING - START_EPSILON_DECAYING)"
   ]
  },
  {
   "cell_type": "code",
   "execution_count": 4,
   "metadata": {},
   "outputs": [],
   "source": [
    "?env.env"
   ]
  },
  {
   "cell_type": "code",
   "execution_count": 5,
   "metadata": {
    "id": "BrpiqppgPwtK"
   },
   "outputs": [],
   "source": [
    "# Create bins and Q table\n",
    "def create_bins_and_q_table():\n",
    "    # env.observation_space.high\n",
    "    # [4.8000002e+00 3.4028235e+38 4.1887903e-01 3.4028235e+38]\n",
    "    # env.observation_space.low\n",
    "    # [-4.8000002e+00 -3.4028235e+38 -4.1887903e-01 -3.4028235e+38]\n",
    "    \n",
    "    # remove hard coded Values when I know how to\n",
    "    \n",
    "    numBins = 20\n",
    "    obsSpaceSize = len(env.observation_space.high)\n",
    "    \n",
    "    # Get the size of each bucket\n",
    "    bins = [np.linspace(-4.8, 4.8, numBins),\n",
    "        np.linspace(-4, 4, numBins),\n",
    "        np.linspace(-.418, .418, numBins),\n",
    "        np.linspace(-4, 4, numBins)]\n",
    "    qTable = np.random.uniform(low=-2, high=0, size=([numBins] * obsSpaceSize + [env.action_space.n]))\n",
    "    \n",
    "    return bins, obsSpaceSize, qTable"
   ]
  },
  {
   "cell_type": "code",
   "execution_count": 6,
   "metadata": {
    "id": "cuyg1ny8Pzab"
   },
   "outputs": [],
   "source": [
    "def get_discrete_state(state, bins, obsSpaceSize):\n",
    "    stateIndex = []\n",
    "    for i in range(obsSpaceSize):\n",
    "        stateIndex.append(np.digitize(state[i], bins[i]) - 1) # -1 will turn bin into index\n",
    "    return tuple(stateIndex)"
   ]
  },
  {
   "cell_type": "code",
   "execution_count": 7,
   "metadata": {
    "id": "Z9XT7XqDP1TO"
   },
   "outputs": [],
   "source": [
    "bins, obsSpaceSize, qTable = create_bins_and_q_table()\n",
    "\n",
    "previousCnt = []  # array of all scores over runs\n",
    "metrics = {'ep': [], 'avg': [], 'min': [], 'max': []}  # metrics recorded for graph"
   ]
  },
  {
   "cell_type": "code",
   "execution_count": 8,
   "metadata": {
    "colab": {
     "base_uri": "https://localhost:8080/",
     "height": 380
    },
    "id": "NsBkXuM-QNev",
    "outputId": "ed803f20-8e8c-4a6f-c298-b618d2993331"
   },
   "outputs": [
    {
     "name": "stdout",
     "output_type": "stream",
     "text": [
      "Run: 0 Average: 18.0 Min: 18 Max: 18\n",
      "Run: 100 Average: 22.67 Min: 9 Max: 61\n",
      "Run: 200 Average: 34.39 Min: 9 Max: 104\n",
      "Run: 300 Average: 41.01 Min: 12 Max: 109\n",
      "Run: 400 Average: 58.88 Min: 16 Max: 126\n",
      "Run: 500 Average: 83.65 Min: 27 Max: 130\n",
      "Run: 600 Average: 101.09 Min: 56 Max: 135\n",
      "Run: 700 Average: 110.89 Min: 68 Max: 179\n",
      "Run: 800 Average: 110.76 Min: 59 Max: 192\n",
      "Run: 900 Average: 113.7 Min: 61 Max: 149\n"
     ]
    }
   ],
   "source": [
    "for run in range(RUNS):\n",
    "    discreteState = get_discrete_state(env.reset(), bins, obsSpaceSize)\n",
    "    done = False  # has the enviroment finished?\n",
    "    cnt = 0  # how may movements cart has made\n",
    "    \n",
    "    while not done:\n",
    "        if run % SHOW_EVERY == 0:\n",
    "            env.render()  #if running RL comment this out\n",
    "        cnt += 1\n",
    "        # Get action from Q table\n",
    "        if np.random.random() > epsilon:\n",
    "            action = np.argmax(qTable[discreteState])\n",
    "        # Get random action\n",
    "        else:\n",
    "            action = np.random.randint(0, env.action_space.n)\n",
    "        newState, reward, done, _ = env.step(action)  # perform action on enviroment\n",
    "        \n",
    "        newDiscreteState = get_discrete_state(newState, bins, obsSpaceSize)\n",
    "        \n",
    "        maxFutureQ = np.max(qTable[newDiscreteState])  # estimate of optiomal future value\n",
    "        currentQ = qTable[discreteState + (action, )]  # old value\n",
    "        \n",
    "        # pole fell over / went out of bounds, negative reward\n",
    "        if done and cnt < 200:\n",
    "            reward = -375\n",
    "        \n",
    "        # formula to caculate all Q values\n",
    "        newQ = (1 - LEARNING_RATE) * currentQ + LEARNING_RATE * (reward + DISCOUNT * maxFutureQ)\n",
    "        qTable[discreteState + (action, )] = newQ  # Update qTable with new Q value\n",
    "        \n",
    "        discreteState = newDiscreteState\n",
    "    previousCnt.append(cnt)\n",
    "    \n",
    "    # Decaying is being done every run if run number is within decaying range\n",
    "    if END_EPSILON_DECAYING >= run >= START_EPSILON_DECAYING:\n",
    "        epsilon -= epsilon_decay_value\n",
    "    # Add new metrics for graph\n",
    "    if run % UPDATE_EVERY == 0:\n",
    "        latestRuns = previousCnt[-UPDATE_EVERY:]\n",
    "        averageCnt = sum(latestRuns) / len(latestRuns)\n",
    "        metrics['ep'].append(run)\n",
    "        metrics['avg'].append(averageCnt)\n",
    "        metrics['min'].append(min(latestRuns))\n",
    "        metrics['max'].append(max(latestRuns))\n",
    "        print(\"Run:\", run, \"Average:\", averageCnt, \"Min:\", min(latestRuns), \"Max:\", max(latestRuns))\n",
    "\n"
   ]
  },
  {
   "cell_type": "code",
   "execution_count": null,
   "metadata": {
    "id": "yHi-HKntRbPA"
   },
   "outputs": [],
   "source": []
  },
  {
   "cell_type": "code",
   "execution_count": null,
   "metadata": {},
   "outputs": [],
   "source": []
  },
  {
   "cell_type": "code",
   "execution_count": null,
   "metadata": {},
   "outputs": [],
   "source": []
  }
 ],
 "metadata": {
  "colab": {
   "collapsed_sections": [],
   "name": "Untitled0.ipynb",
   "provenance": []
  },
  "kernelspec": {
   "display_name": "Python 3 (ipykernel)",
   "language": "python",
   "name": "python3"
  },
  "language_info": {
   "codemirror_mode": {
    "name": "ipython",
    "version": 3
   },
   "file_extension": ".py",
   "mimetype": "text/x-python",
   "name": "python",
   "nbconvert_exporter": "python",
   "pygments_lexer": "ipython3",
   "version": "3.9.6"
  }
 },
 "nbformat": 4,
 "nbformat_minor": 1
}
