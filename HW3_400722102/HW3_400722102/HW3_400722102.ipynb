{
  "nbformat": 4,
  "nbformat_minor": 0,
  "metadata": {
    "colab": {
      "name": "Untitled34 (2).ipynb",
      "provenance": [],
      "collapsed_sections": []
    },
    "kernelspec": {
      "name": "python3",
      "display_name": "Python 3"
    },
    "language_info": {
      "name": "python"
    }
  },
  "cells": [
    {
      "cell_type": "markdown",
      "source": [
        "**AMIN FATHI**"
      ],
      "metadata": {
        "id": "Vqs6nOlUd6oj"
      }
    },
    {
      "cell_type": "markdown",
      "source": [
        "400722102 - HW3"
      ],
      "metadata": {
        "id": "CY7rK7D-d5pv"
      }
    },
    {
      "cell_type": "code",
      "execution_count": 1,
      "metadata": {
        "id": "Qulo1kiUUmkz"
      },
      "outputs": [],
      "source": [
        "import numpy as np\n",
        "import matplotlib.pyplot as plt\n",
        "import os\n",
        "import scipy.io\n",
        "from sklearn import linear_model\n",
        "from sklearn import model_selection\n",
        "from scipy.optimize import minimize\n",
        "from skimage.transform import resize\n",
        "from matplotlib.image import imread\n",
        "from keras.datasets import mnist\n",
        "import matplotlib.pyplot as plt\n",
        "import numpy as np\n",
        "import random\n",
        "from keras.utils.np_utils import to_categorical\n",
        "from sklearn.linear_model import OrthogonalMatchingPursuit"
      ]
    },
    {
      "cell_type": "markdown",
      "source": [
        "# **SECTION A**"
      ],
      "metadata": {
        "id": "VSezTHM_w-MR"
      }
    },
    {
      "cell_type": "code",
      "source": [
        "(X_train, y_train), (X_test, y_test) = mnist.load_data()"
      ],
      "metadata": {
        "colab": {
          "base_uri": "https://localhost:8080/"
        },
        "id": "GgmE8eBSU5Xw",
        "outputId": "82c1ced8-e579-4f71-8a0e-d11cbb604dc4"
      },
      "execution_count": 2,
      "outputs": [
        {
          "output_type": "stream",
          "name": "stdout",
          "text": [
            "Downloading data from https://storage.googleapis.com/tensorflow/tf-keras-datasets/mnist.npz\n",
            "11493376/11490434 [==============================] - 0s 0us/step\n",
            "11501568/11490434 [==============================] - 0s 0us/step\n"
          ]
        }
      ]
    },
    {
      "cell_type": "code",
      "source": [
        "n_train, height, width = X_train.shape\n",
        "n_test, _, _ = X_test.shape"
      ],
      "metadata": {
        "id": "8kZmINr3U6KH"
      },
      "execution_count": 3,
      "outputs": []
    },
    {
      "cell_type": "code",
      "source": [
        "print(n_train ,height, width,n_test )"
      ],
      "metadata": {
        "colab": {
          "base_uri": "https://localhost:8080/"
        },
        "id": "JHsGe7hGVHSu",
        "outputId": "66807211-f371-436c-c4be-45aa1d07ba6e"
      },
      "execution_count": 4,
      "outputs": [
        {
          "output_type": "stream",
          "name": "stdout",
          "text": [
            "60000 28 28 10000\n"
          ]
        }
      ]
    },
    {
      "cell_type": "code",
      "source": [
        "X_train = np.int8(X_train >80 )"
      ],
      "metadata": {
        "id": "-G-TA414UEom"
      },
      "execution_count": 5,
      "outputs": []
    },
    {
      "cell_type": "code",
      "source": [
        "print(X_train[4])"
      ],
      "metadata": {
        "colab": {
          "base_uri": "https://localhost:8080/"
        },
        "id": "h9lVqrABUUPt",
        "outputId": "15a11320-2630-4755-fc5b-785ba8e5dc54"
      },
      "execution_count": 6,
      "outputs": [
        {
          "output_type": "stream",
          "name": "stdout",
          "text": [
            "[[0 0 0 0 0 0 0 0 0 0 0 0 0 0 0 0 0 0 0 0 0 0 0 0 0 0 0 0]\n",
            " [0 0 0 0 0 0 0 0 0 0 0 0 0 0 0 0 0 0 0 0 0 0 0 0 0 0 0 0]\n",
            " [0 0 0 0 0 0 0 0 0 0 0 0 0 0 0 0 0 0 0 0 0 0 0 0 0 0 0 0]\n",
            " [0 0 0 0 0 0 0 0 0 0 0 0 0 0 0 0 0 0 0 0 0 0 0 0 0 0 0 0]\n",
            " [0 0 0 0 0 0 0 0 0 0 0 0 0 0 0 0 0 0 0 0 0 0 0 0 0 0 0 0]\n",
            " [0 0 0 0 0 0 0 0 0 0 0 0 0 0 0 0 0 0 0 0 0 0 0 0 0 0 0 0]\n",
            " [0 0 0 0 0 0 0 0 0 0 0 0 0 0 0 0 0 0 0 0 0 0 0 0 0 0 0 0]\n",
            " [0 0 0 0 0 0 0 0 0 0 0 0 0 1 1 1 1 1 1 1 0 0 0 0 0 0 0 0]\n",
            " [0 0 0 0 0 0 0 0 0 0 0 1 1 1 1 1 1 1 1 1 1 0 0 0 0 0 0 0]\n",
            " [0 0 0 0 0 0 0 0 0 0 0 1 1 1 0 0 0 1 1 1 1 0 0 0 0 0 0 0]\n",
            " [0 0 0 0 0 0 0 0 0 1 1 1 1 0 0 0 1 1 1 1 0 0 0 0 0 0 0 0]\n",
            " [0 0 0 0 0 0 0 0 1 1 1 1 0 0 0 0 1 1 1 0 0 0 0 0 0 0 0 0]\n",
            " [0 0 0 0 0 0 0 1 1 1 1 0 0 0 0 0 1 1 1 0 0 0 0 0 0 0 0 0]\n",
            " [0 0 0 0 0 0 0 1 1 1 0 0 0 0 1 1 1 1 0 0 0 0 0 0 0 0 0 0]\n",
            " [0 0 0 0 0 0 0 1 1 0 0 1 1 1 1 1 1 0 0 0 0 0 0 0 0 0 0 0]\n",
            " [0 0 0 0 0 0 0 1 1 1 1 1 1 1 1 1 1 0 0 0 0 0 0 0 0 0 0 0]\n",
            " [0 0 0 0 0 0 0 0 1 1 1 1 0 0 1 1 1 0 0 0 0 0 0 0 0 0 0 0]\n",
            " [0 0 0 0 0 0 0 0 0 0 0 0 0 0 1 1 1 0 0 0 0 0 0 0 0 0 0 0]\n",
            " [0 0 0 0 0 0 0 0 0 0 0 0 0 0 1 1 0 0 0 0 0 0 0 0 0 0 0 0]\n",
            " [0 0 0 0 0 0 0 0 0 0 0 0 0 0 1 1 0 0 0 0 0 0 0 0 0 0 0 0]\n",
            " [0 0 0 0 0 0 0 0 0 0 0 0 0 0 1 1 0 0 0 0 0 0 0 0 0 0 0 0]\n",
            " [0 0 0 0 0 0 0 0 0 0 0 0 0 1 1 1 0 0 0 0 0 0 0 0 0 0 0 0]\n",
            " [0 0 0 0 0 0 0 0 0 0 0 0 0 0 1 1 0 0 0 0 0 0 0 0 0 0 0 0]\n",
            " [0 0 0 0 0 0 0 0 0 0 0 0 0 0 1 1 0 0 0 0 0 0 0 0 0 0 0 0]\n",
            " [0 0 0 0 0 0 0 0 0 0 0 0 0 0 1 1 1 0 0 0 0 0 0 0 0 0 0 0]\n",
            " [0 0 0 0 0 0 0 0 0 0 0 0 0 0 0 1 1 1 0 0 0 0 0 0 0 0 0 0]\n",
            " [0 0 0 0 0 0 0 0 0 0 0 0 0 0 0 0 1 1 0 0 0 0 0 0 0 0 0 0]\n",
            " [0 0 0 0 0 0 0 0 0 0 0 0 0 0 0 0 0 0 0 0 0 0 0 0 0 0 0 0]]\n"
          ]
        }
      ]
    },
    {
      "cell_type": "code",
      "source": [
        "fig = plt.figure()\n",
        "samples = np.concatenate(\n",
        "          [np.concatenate([X_train[i].reshape(28,28) \n",
        "                           for i in [int(random.random() * len(X_train)) \n",
        "                                     for i in range(16)]], axis=1) \n",
        "           for i in range(4)], axis=0)\n",
        "plt.imshow(samples, cmap='gray', interpolation='none')\n",
        "plt.xticks([])\n",
        "plt.yticks([])"
      ],
      "metadata": {
        "colab": {
          "base_uri": "https://localhost:8080/",
          "height": 135
        },
        "id": "lm8wpJ1LVLuC",
        "outputId": "899caecb-b205-4a99-a650-d87b00e0828f"
      },
      "execution_count": 7,
      "outputs": [
        {
          "output_type": "execute_result",
          "data": {
            "text/plain": [
              "([], <a list of 0 Text major ticklabel objects>)"
            ]
          },
          "metadata": {},
          "execution_count": 7
        },
        {
          "output_type": "display_data",
          "data": {
            "text/plain": [
              "<Figure size 432x288 with 1 Axes>"
            ],
            "image/png": "[encoded data removed]"
          },
          "metadata": {}
        }
      ]
    },
    {
      "cell_type": "code",
      "source": [
        "print(X_train.shape)"
      ],
      "metadata": {
        "colab": {
          "base_uri": "https://localhost:8080/"
        },
        "id": "RYdwtMC5VkyW",
        "outputId": "8e0cf769-7050-4c62-b8ec-889b479e3589"
      },
      "execution_count": 8,
      "outputs": [
        {
          "output_type": "stream",
          "name": "stdout",
          "text": [
            "(60000, 28, 28)\n"
          ]
        }
      ]
    },
    {
      "cell_type": "code",
      "source": [
        "print(y_train[0])"
      ],
      "metadata": {
        "colab": {
          "base_uri": "https://localhost:8080/"
        },
        "id": "b6ZMX3MzVs5m",
        "outputId": "0af87a1d-b81a-43da-c5eb-db27dfff6244"
      },
      "execution_count": 9,
      "outputs": [
        {
          "output_type": "stream",
          "name": "stdout",
          "text": [
            "5\n"
          ]
        }
      ]
    },
    {
      "cell_type": "code",
      "source": [
        "x= []\n",
        "y=[]\n",
        "j1 = 0\n",
        "j2 =0 \n",
        "j3 = 0\n",
        "j4 = 0 \n",
        "j5 = 0 \n",
        "j6 = 0 \n",
        "j7 = 0 \n",
        "j8 = 0 \n",
        "j9 = 0 \n",
        "j10 = 0\n",
        "for i in range(10000):\n",
        "  if y_train[i] == 0:\n",
        "    while(j1 <300):\n",
        "      j1 += 1\n",
        "      x.append(X_train[i].ravel())\n",
        "      y.append(0)\n",
        "for i in range(10000):\n",
        "  if y_train[i] == 1:\n",
        "    while(j2 <300):\n",
        "      j2 += 1\n",
        "      x.append(X_train[i].ravel())\n",
        "      y.append(1)\n",
        "for i in range(10000):\n",
        "  if y_train[i] == 2:\n",
        "    while(j3 <300):\n",
        "      j3 += 1\n",
        "      x.append(X_train[i].ravel())\n",
        "      y.append(2)\n",
        "for i in range(10000):\n",
        "  if y_train[i] == 3:\n",
        "    while(j4 <300):\n",
        "      j4 += 1\n",
        "      x.append(X_train[i].ravel())\n",
        "      y.append(3)\n",
        "for i in range(10000):\n",
        "  if y_train[i] == 4:\n",
        "    while(j5 <300):\n",
        "      j5 += 1\n",
        "      x.append(X_train[i].ravel())\n",
        "      y.append(4)\n",
        "for i in range(10000):\n",
        "  if y_train[i] == 5:\n",
        "    while(j6 <30):\n",
        "      j6 += 1\n",
        "      x.append(X_train[i].ravel())\n",
        "      y.append(5)\n",
        "for i in range(10000):\n",
        "  if y_train[i] == 6:\n",
        "    while(j7 <300):\n",
        "      j7 += 1\n",
        "      x.append(X_train[i].ravel())\n",
        "      y.append(6)\n",
        "for i in range(10000):\n",
        "  if y_train[i] == 7:\n",
        "    while(j8 <300):\n",
        "      j8 += 1\n",
        "      x.append(X_train[i].ravel())\n",
        "      y.append(7)\n",
        "for i in range(10000):\n",
        "  if y_train[i] == 8:\n",
        "    while(j9 <300):\n",
        "      j9 += 1\n",
        "      x.append(X_train[i].ravel())\n",
        "      y.append(8)\n",
        "for i in range(10000):\n",
        "  if y_train[i] == 9:\n",
        "    while(j10 <300):\n",
        "      j10 += 1\n",
        "      x.append(X_train[i].ravel())\n",
        "      y.append(9)"
      ],
      "metadata": {
        "id": "LhUl8_PtYnRK"
      },
      "execution_count": 136,
      "outputs": []
    },
    {
      "cell_type": "code",
      "source": [
        "\n",
        "train1 =  np.array(x)\n",
        "train1 = train1.T\n",
        "xtrain = train1.tolist()\n",
        "trainy = np.array(y)\n",
        "ytrain = trainy.tolist()\n",
        "print(trainy.shape)\n",
        "print(len(ytrain))\n",
        "print(ytrain[241])"
      ],
      "metadata": {
        "colab": {
          "base_uri": "https://localhost:8080/"
        },
        "id": "Ls5vDVLS7gq2",
        "outputId": "8f2d0138-c571-4e57-9316-47d0e6b2906f"
      },
      "execution_count": 116,
      "outputs": [
        {
          "output_type": "stream",
          "name": "stdout",
          "text": [
            "(300,)\n",
            "300\n",
            "8\n"
          ]
        }
      ]
    },
    {
      "cell_type": "code",
      "source": [
        "x2= []\n",
        "y2=[]\n",
        "r1 = 0\n",
        "r2 = 0 \n",
        "r3 = 0\n",
        "r4 = 0 \n",
        "r5 = 0 \n",
        "r6 = 0 \n",
        "r7 = 0 \n",
        "r8 = 0 \n",
        "r9 = 0 \n",
        "r10 = 0\n",
        "for i in range(1000):\n",
        "  if y_test[i] == 0:\n",
        "    while(r1 <7):\n",
        "      r1 += 1\n",
        "      x2.append(X_test[i].ravel())\n",
        "      y2.append(0)\n",
        "for i in range(1000):\n",
        "  if y_test[i] == 1:\n",
        "    while(r2 <7):\n",
        "      r2 += 1\n",
        "      x2.append(X_test[i].ravel())\n",
        "      y2.append(1)\n",
        "for i in range(1000):\n",
        "  if y_test[i] == 2:\n",
        "    while(r3 <7):\n",
        "      r3 += 1\n",
        "      x2.append(X_test[i].ravel())\n",
        "      y2.append(2)\n",
        "for i in range(1000):\n",
        "  if y_test[i] == 3:\n",
        "    while(r4 <7):\n",
        "      r4 += 1\n",
        "      x2.append(X_test[i].ravel())\n",
        "      y2.append(3)\n",
        "for i in range(1000):\n",
        "  if y_test[i] == 4:\n",
        "    while(r5 <7):\n",
        "      r5 += 1\n",
        "      x2.append(X_test[i].ravel())\n",
        "      y2.append(4)\n",
        "for i in range(1000):\n",
        "  if y_test[i] == 5:\n",
        "    while(r6 <7):\n",
        "      r6 += 1\n",
        "      x2.append(X_test[i].ravel())\n",
        "      y2.append(5)\n",
        "for i in range(1000):\n",
        "  if y_test[i] == 6:\n",
        "    while(r7 <7):\n",
        "      r7 += 1\n",
        "      x2.append(X_test[i].ravel())\n",
        "      y2.append(6)\n",
        "for i in range(1000):\n",
        "  if y_test[i] == 7:\n",
        "    while(r8 <7):\n",
        "      r8 += 1\n",
        "      x2.append(X_test[i].ravel())\n",
        "      y2.append(7)\n",
        "for i in range(1000):\n",
        "  if y_test[i] == 8:\n",
        "    while(r9 <7):\n",
        "      r9 += 1\n",
        "      x2.append(X_test[i].ravel())\n",
        "      y2.append(8)\n",
        "for i in range(1000):\n",
        "  if y_test[i] == 9:\n",
        "    while(r10 <7):\n",
        "      r10 += 1\n",
        "      x2.append(X_test[i].ravel())\n",
        "      y2.append(9)"
      ],
      "metadata": {
        "id": "dnjdxPXtGxGO"
      },
      "execution_count": 117,
      "outputs": []
    },
    {
      "cell_type": "code",
      "source": [
        "test1 =  np.array(x2)\n",
        "test1 = test1.T\n",
        "xtest = test1.tolist()\n",
        "testy = np.array(y2)\n",
        "ytest = testy.tolist()\n",
        "print(testy.shape)\n",
        "print(len(ytest))\n",
        "print(ytest[57])"
      ],
      "metadata": {
        "colab": {
          "base_uri": "https://localhost:8080/"
        },
        "id": "QJFtoDkYRGWh",
        "outputId": "2c3cdcdd-3be7-43c6-e537-86d4a0e0a781"
      },
      "execution_count": 118,
      "outputs": [
        {
          "output_type": "stream",
          "name": "stdout",
          "text": [
            "(70,)\n",
            "70\n",
            "8\n"
          ]
        }
      ]
    },
    {
      "cell_type": "code",
      "source": [
        "def delta(x,i,class_num):\n",
        "    '''\n",
        "    Function that selects the coefficients associated with the ith class\n",
        "    Useful for SCI calculation\n",
        "    '''\n",
        "    n,m = len(x),len(class_num) \n",
        "    if (n != m):\n",
        "        print('Vectors of differents sizes')\n",
        "    tmp = i*np.ones(n)-class_num\n",
        "\n",
        "    for k in range(n):\n",
        "        if tmp[k]==0:\n",
        "            tmp[k]=1\n",
        "        else:\n",
        "            tmp[k]=0 \n",
        "            \n",
        "    return tmp*x"
      ],
      "metadata": {
        "id": "A8BukbaURZcd"
      },
      "execution_count": 119,
      "outputs": []
    },
    {
      "cell_type": "code",
      "source": [
        "def residual(y,A,x,class_x):\n",
        "    '''\n",
        "    Returns the class which minimizes the reconstruction error following the norm 2\n",
        "    '''\n",
        "    k = np.max(class_x)+1\n",
        "    r = np.zeros(k)\n",
        "    \n",
        "    for i in range(0,k):\n",
        "        r[i] = np.linalg.norm(y - np.dot(A,delta(x,i,class_x)))\n",
        "        \n",
        "    return r"
      ],
      "metadata": {
        "id": "ezmZcwKtR__K"
      },
      "execution_count": 120,
      "outputs": []
    },
    {
      "cell_type": "code",
      "source": [
        "def SCI(x,class_num):\n",
        "    '''\n",
        "    - class_num: classe of a training element.\n",
        "    - x        : sparse coefficients\n",
        "    '''\n",
        "    \n",
        "    k = len(set(class_num)) # Number of different classes\n",
        "    \n",
        "    return (k*(1/np.linalg.norm(x,ord=1))*np.max([np.linalg.norm(delta(x,i,class_num),ord=1) for i in range(k)]) - 1)/(k-1)\n",
        "    "
      ],
      "metadata": {
        "id": "qjUX-iEFSBXY"
      },
      "execution_count": 121,
      "outputs": []
    },
    {
      "cell_type": "code",
      "source": [
        "test_pic = 6"
      ],
      "metadata": {
        "id": "iqb1SLhwSDtn"
      },
      "execution_count": 122,
      "outputs": []
    },
    {
      "cell_type": "code",
      "source": [
        "from sklearn.linear_model import Lasso\n",
        "import numpy as np\n",
        "from PIL import Image\n",
        "import os, sys\n",
        "import matplotlib.pyplot as plt\n",
        "from sklearn.preprocessing import normalize\n",
        "import time\n",
        "import random"
      ],
      "metadata": {
        "id": "vPT0QDm7SJOa"
      },
      "execution_count": 123,
      "outputs": []
    },
    {
      "cell_type": "code",
      "source": [
        "clf = Lasso(alpha=0.001)\n",
        "xtest = np.array(xtest)\n",
        "xtrain = np.array(xtrain)\n",
        "y3 = xtest[:,test_pic]\n",
        "clf.fit(xtrain,y3)\n",
        "x3 = clf.coef_"
      ],
      "metadata": {
        "id": "HLYfWAmlSGb3"
      },
      "execution_count": 124,
      "outputs": []
    },
    {
      "cell_type": "code",
      "source": [
        "pred_class = np.argmin(residual(xtest[:,test_pic],xtrain,x3,ytrain))"
      ],
      "metadata": {
        "id": "bysO2RCZSHgw"
      },
      "execution_count": 125,
      "outputs": []
    },
    {
      "cell_type": "code",
      "source": [
        "print(\"Real class: \", ytest[test_pic])\n",
        "print(\"Predicted class: \", pred_class)\n",
        "print(\"SCI : \", SCI(x3,ytrain))\n",
        "plt.figure()\n",
        "plt.stem(x3)\n",
        "plt.title('Sparse representation. Real Class: ' + str(ytest[test_pic]))\n",
        "plt.ylabel('Coefficients value')\n",
        "plt.xlabel('sample')"
      ],
      "metadata": {
        "colab": {
          "base_uri": "https://localhost:8080/",
          "height": 399
        },
        "id": "CuzUyHKIthPS",
        "outputId": "0e4bdf5e-26f1-4e37-f6a9-e093cfd6b9d2"
      },
      "execution_count": 126,
      "outputs": [
        {
          "output_type": "stream",
          "name": "stdout",
          "text": [
            "Real class:  0\n",
            "Predicted class:  0\n",
            "SCI :  0.21439864563460997\n"
          ]
        },
        {
          "output_type": "stream",
          "name": "stderr",
          "text": [
            "/usr/local/lib/python3.7/dist-packages/ipykernel_launcher.py:5: UserWarning: In Matplotlib 3.3 individual lines on a stem plot will be added as a LineCollection instead of individual lines. This significantly improves the performance of a stem plot. To remove this warning and switch to the new behaviour, set the \"use_line_collection\" keyword argument to True.\n",
            "  \"\"\"\n"
          ]
        },
        {
          "output_type": "execute_result",
          "data": {
            "text/plain": [
              "Text(0.5, 0, 'sample')"
            ]
          },
          "metadata": {},
          "execution_count": 126
        },
        {
          "output_type": "display_data",
          "data": {
            "text/plain": [
              "<Figure size 432x288 with 1 Axes>"
            ],
            "image/png": "[encoded data removed]"
          },
          "metadata": {
            "needs_background": "light"
          }
        }
      ]
    },
    {
      "cell_type": "code",
      "source": [
        "def FaceClass_noplot(test_pic,alpha):\n",
        "    clf = Lasso(alpha=alpha)\n",
        "\n",
        "    y4 = xtest[:,test_pic]\n",
        "\n",
        "    clf.fit(xtrain,y4)\n",
        "    x4 = clf.coef_\n",
        "\n",
        "    pred_class = np.argmin(residual(xtest[:,test_pic],xtrain,x4,ytrain))\n",
        "\n",
        "    if ytest[test_pic] == pred_class:\n",
        "        return \"Good Prediction\"\n",
        "    else: \n",
        "        return \"Wrong Prediction\""
      ],
      "metadata": {
        "id": "XI4ladvZWbPA"
      },
      "execution_count": 127,
      "outputs": []
    },
    {
      "cell_type": "code",
      "source": [
        "xtest = np.array(xtest)\n",
        "xtrain = np.array(xtrain)"
      ],
      "metadata": {
        "id": "65UxRDeuolgg"
      },
      "execution_count": 128,
      "outputs": []
    },
    {
      "cell_type": "code",
      "source": [
        "\n",
        "total1 = 0\n",
        "\n",
        "for i in range(len(xtest[0])):\n",
        "    #res = FaceClass_noplot(i,alpha)\n",
        "    res = FaceClass_noplot(i,0.01)\n",
        "    if res == 'Good Prediction':\n",
        "        total1+=1\n",
        "print('total number of test sampels is :' , len(xtest[0]) ,' and true predicted number is :' , total1)        \n",
        "print('Test Score : %s' %(total1/len(xtest[0])*100)  , ' %' )\n"
      ],
      "metadata": {
        "colab": {
          "base_uri": "https://localhost:8080/"
        },
        "id": "obzotAc1SpDF",
        "outputId": "7f3b7157-3977-4f99-cdca-0572f25efbf4"
      },
      "execution_count": 133,
      "outputs": [
        {
          "output_type": "stream",
          "name": "stdout",
          "text": [
            "total number of test sampels is : 70  and true predicted number is : 42\n",
            "Test Score : 60.0  %\n"
          ]
        }
      ]
    },
    {
      "cell_type": "markdown",
      "source": [
        "# **SECTION B**"
      ],
      "metadata": {
        "id": "zcneHPXCw4Zg"
      }
    },
    {
      "cell_type": "code",
      "source": [
        "def FaceClass_noplot2(test_pic):\n",
        "\n",
        "\n",
        "    y4 = xtest[:,test_pic]\n",
        "    omp = OrthogonalMatchingPursuit(n_nonzero_coefs=10, normalize=False)\n",
        "    omp.fit(xtrain, y4)\n",
        "    coef = omp.coef_\n",
        "\n",
        "    pred_class = np.argmin(residual(xtest[:,test_pic],xtrain,coef,ytrain))\n",
        "\n",
        "    if ytest[test_pic] == pred_class:\n",
        "        return \"Good Prediction\"\n",
        "    else: \n",
        "        return \"Wrong Prediction\""
      ],
      "metadata": {
        "id": "WDyZTHxkhukb"
      },
      "execution_count": 134,
      "outputs": []
    },
    {
      "cell_type": "code",
      "source": [
        "\n",
        "total2 = 0\n",
        "\n",
        "for i in range(len(xtest[0])):\n",
        "    #res = FaceClass_noplot(i,alpha)\n",
        "    res = FaceClass_noplot2(i)\n",
        "    if res == 'Good Prediction':\n",
        "        total2+=1\n",
        "print('total number of test sampels is :' , len(xtest[0]) ,' and true predicted number is :' , total2)        \n",
        "print('Test Score : %s' %(total2/len(xtest[0])*100)  , ' %' )"
      ],
      "metadata": {
        "id": "1-Q0Yl-Uyr4V",
        "colab": {
          "base_uri": "https://localhost:8080/"
        },
        "outputId": "cc291393-6e1f-4056-e235-8ed301aaf5e7"
      },
      "execution_count": 132,
      "outputs": [
        {
          "output_type": "stream",
          "name": "stdout",
          "text": [
            "total number of test sampels is : 70  and true predicted number is : 42\n",
            "Test Score : 60.0  %\n"
          ]
        }
      ]
    }
  ]
}